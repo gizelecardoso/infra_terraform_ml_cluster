{
  "cells": [
    {
      "cell_type": "code",
      "execution_count": null,
      "metadata": {
        "id": "uGlyp8QU81Rw"
      },
      "outputs": [],
      "source": [
        "import pandas as pd\n",
        "import matplotlib.pyplot as plt\n",
        "import numpy as np\n",
        "import seaborn as sns\n",
        "\n",
        "%matplotlib inline\n",
        "\n",
        "sns.set_theme()"
      ]
    },
    {
      "cell_type": "code",
      "execution_count": null,
      "metadata": {
        "id": "SKY5d0NyYKiX"
      },
      "outputs": [],
      "source": [
        "from sklearn.cluster import KMeans, AgglomerativeClustering\n",
        "from sklearn.preprocessing import StandardScaler\n",
        "from scipy.cluster import hierarchy"
      ]
    },
    {
      "cell_type": "markdown",
      "metadata": {
        "id": "bnlGyGuzsc_y"
      },
      "source": [
        "## 1. Carregando Base de Dados"
      ]
    },
    {
      "cell_type": "code",
      "execution_count": null,
      "metadata": {
        "id": "PIMoIB-S9onc"
      },
      "outputs": [],
      "source": [
        "beer = pd.read_csv('cleaned.csv', sep=\",\")"
      ]
    },
    {
      "cell_type": "code",
      "execution_count": null,
      "metadata": {
        "colab": {
          "base_uri": "https://localhost:8080/",
          "height": 362
        },
        "id": "gVdwk5-19yRI",
        "outputId": "fbf86bcc-0184-438d-b690-0ea33cc53f85"
      },
      "outputs": [
        {
          "data": {
            "text/html": [
              "<div>\n",
              "<style scoped>\n",
              "    .dataframe tbody tr th:only-of-type {\n",
              "        vertical-align: middle;\n",
              "    }\n",
              "\n",
              "    .dataframe tbody tr th {\n",
              "        vertical-align: top;\n",
              "    }\n",
              "\n",
              "    .dataframe thead th {\n",
              "        text-align: right;\n",
              "    }\n",
              "</style>\n",
              "<table border=\"1\" class=\"dataframe\">\n",
              "  <thead>\n",
              "    <tr style=\"text-align: right;\">\n",
              "      <th></th>\n",
              "      <th>Unnamed: 0</th>\n",
              "      <th>id</th>\n",
              "      <th>name</th>\n",
              "      <th>abv</th>\n",
              "      <th>ibu</th>\n",
              "      <th>target_fg</th>\n",
              "      <th>target_og</th>\n",
              "      <th>ebc</th>\n",
              "      <th>srm</th>\n",
              "      <th>ph</th>\n",
              "    </tr>\n",
              "  </thead>\n",
              "  <tbody>\n",
              "    <tr>\n",
              "      <th>0</th>\n",
              "      <td>0</td>\n",
              "      <td>163</td>\n",
              "      <td>This. Is. Lager</td>\n",
              "      <td>4.7</td>\n",
              "      <td>37</td>\n",
              "      <td>1007</td>\n",
              "      <td>1043</td>\n",
              "      <td>10.0</td>\n",
              "      <td>6.00</td>\n",
              "      <td>4.2</td>\n",
              "    </tr>\n",
              "    <tr>\n",
              "      <th>1</th>\n",
              "      <td>0</td>\n",
              "      <td>241</td>\n",
              "      <td>Hello My Name Is Ingrid 2016</td>\n",
              "      <td>8.2</td>\n",
              "      <td>70</td>\n",
              "      <td>1013</td>\n",
              "      <td>1076</td>\n",
              "      <td>30.0</td>\n",
              "      <td>15.20</td>\n",
              "      <td>5.2</td>\n",
              "    </tr>\n",
              "    <tr>\n",
              "      <th>2</th>\n",
              "      <td>0</td>\n",
              "      <td>67</td>\n",
              "      <td>Hunter Foundation Pale Ale</td>\n",
              "      <td>5.4</td>\n",
              "      <td>35</td>\n",
              "      <td>1008</td>\n",
              "      <td>1050</td>\n",
              "      <td>11.5</td>\n",
              "      <td>5.75</td>\n",
              "      <td>4.4</td>\n",
              "    </tr>\n",
              "    <tr>\n",
              "      <th>3</th>\n",
              "      <td>0</td>\n",
              "      <td>140</td>\n",
              "      <td>Pioneer - IPA Is Dead</td>\n",
              "      <td>7.2</td>\n",
              "      <td>100</td>\n",
              "      <td>1010</td>\n",
              "      <td>1064</td>\n",
              "      <td>12.0</td>\n",
              "      <td>6.00</td>\n",
              "      <td>4.4</td>\n",
              "    </tr>\n",
              "    <tr>\n",
              "      <th>4</th>\n",
              "      <td>0</td>\n",
              "      <td>139</td>\n",
              "      <td>Born To Die</td>\n",
              "      <td>8.5</td>\n",
              "      <td>85</td>\n",
              "      <td>1007</td>\n",
              "      <td>1072</td>\n",
              "      <td>15.0</td>\n",
              "      <td>7.50</td>\n",
              "      <td>4.4</td>\n",
              "    </tr>\n",
              "    <tr>\n",
              "      <th>5</th>\n",
              "      <td>0</td>\n",
              "      <td>218</td>\n",
              "      <td>Monk Hammer</td>\n",
              "      <td>7.2</td>\n",
              "      <td>250</td>\n",
              "      <td>1010</td>\n",
              "      <td>1065</td>\n",
              "      <td>15.0</td>\n",
              "      <td>7.50</td>\n",
              "      <td>4.4</td>\n",
              "    </tr>\n",
              "    <tr>\n",
              "      <th>6</th>\n",
              "      <td>0</td>\n",
              "      <td>190</td>\n",
              "      <td>Hello My Name is Sonja (w/ Evil Twin)</td>\n",
              "      <td>8.3</td>\n",
              "      <td>70</td>\n",
              "      <td>1013</td>\n",
              "      <td>1076</td>\n",
              "      <td>30.0</td>\n",
              "      <td>15.00</td>\n",
              "      <td>4.4</td>\n",
              "    </tr>\n",
              "    <tr>\n",
              "      <th>7</th>\n",
              "      <td>0</td>\n",
              "      <td>94</td>\n",
              "      <td>Everday Anarchy</td>\n",
              "      <td>10.5</td>\n",
              "      <td>45</td>\n",
              "      <td>1005</td>\n",
              "      <td>1081</td>\n",
              "      <td>15.0</td>\n",
              "      <td>7.50</td>\n",
              "      <td>4.4</td>\n",
              "    </tr>\n",
              "    <tr>\n",
              "      <th>8</th>\n",
              "      <td>0</td>\n",
              "      <td>270</td>\n",
              "      <td>Blonde Export Stout</td>\n",
              "      <td>7.0</td>\n",
              "      <td>55</td>\n",
              "      <td>1020</td>\n",
              "      <td>1075</td>\n",
              "      <td>16.0</td>\n",
              "      <td>8.00</td>\n",
              "      <td>4.4</td>\n",
              "    </tr>\n",
              "    <tr>\n",
              "      <th>9</th>\n",
              "      <td>0</td>\n",
              "      <td>269</td>\n",
              "      <td>Small Batch: Imperial Pale Weizen</td>\n",
              "      <td>7.5</td>\n",
              "      <td>25</td>\n",
              "      <td>1010</td>\n",
              "      <td>1067</td>\n",
              "      <td>18.0</td>\n",
              "      <td>9.00</td>\n",
              "      <td>4.4</td>\n",
              "    </tr>\n",
              "  </tbody>\n",
              "</table>\n",
              "</div>"
            ],
            "text/plain": [
              "   Unnamed: 0   id                                   name  ...   ebc    srm   ph\n",
              "0           0  163                        This. Is. Lager  ...  10.0   6.00  4.2\n",
              "1           0  241           Hello My Name Is Ingrid 2016  ...  30.0  15.20  5.2\n",
              "2           0   67             Hunter Foundation Pale Ale  ...  11.5   5.75  4.4\n",
              "3           0  140                  Pioneer - IPA Is Dead  ...  12.0   6.00  4.4\n",
              "4           0  139                            Born To Die  ...  15.0   7.50  4.4\n",
              "5           0  218                            Monk Hammer  ...  15.0   7.50  4.4\n",
              "6           0  190  Hello My Name is Sonja (w/ Evil Twin)  ...  30.0  15.00  4.4\n",
              "7           0   94                        Everday Anarchy  ...  15.0   7.50  4.4\n",
              "8           0  270                    Blonde Export Stout  ...  16.0   8.00  4.4\n",
              "9           0  269      Small Batch: Imperial Pale Weizen  ...  18.0   9.00  4.4\n",
              "\n",
              "[10 rows x 10 columns]"
            ]
          },
          "execution_count": 119,
          "metadata": {},
          "output_type": "execute_result"
        }
      ],
      "source": [
        "beer"
      ]
    },
    {
      "cell_type": "markdown",
      "metadata": {
        "id": "EPmZAoOmsWtF"
      },
      "source": [
        "## 2. Tranformação do dataset"
      ]
    },
    {
      "cell_type": "markdown",
      "metadata": {
        "id": "tODCTN3vsqku"
      },
      "source": [
        "\n",
        "\n",
        "*   Selecionando somente os dados das variáveis quantitativas (para a análise de cluster - usando a distância euclidiana) do dataset e o nomes das cervejas\n",
        "\n",
        "\n",
        "\n"
      ]
    },
    {
      "cell_type": "code",
      "execution_count": null,
      "metadata": {
        "id": "EixRuGGiAq2V"
      },
      "outputs": [],
      "source": [
        "beer_modificado = beer.iloc[:, 2:]"
      ]
    },
    {
      "cell_type": "markdown",
      "metadata": {
        "id": "biNQpRNDs28_"
      },
      "source": [
        "\n",
        "\n",
        "*   Tornando o nome das cervejas o índice do dataset\n"
      ]
    },
    {
      "cell_type": "code",
      "execution_count": null,
      "metadata": {
        "id": "jxTCYB6_gWMm"
      },
      "outputs": [],
      "source": [
        "beer_modificado.set_index('name', drop=True, inplace=True)"
      ]
    },
    {
      "cell_type": "code",
      "execution_count": null,
      "metadata": {
        "colab": {
          "base_uri": "https://localhost:8080/",
          "height": 393
        },
        "id": "VGiPvs3rZMuF",
        "outputId": "d64dd66a-e947-446d-83ae-97e9964d344e"
      },
      "outputs": [
        {
          "data": {
            "text/html": [
              "<div>\n",
              "<style scoped>\n",
              "    .dataframe tbody tr th:only-of-type {\n",
              "        vertical-align: middle;\n",
              "    }\n",
              "\n",
              "    .dataframe tbody tr th {\n",
              "        vertical-align: top;\n",
              "    }\n",
              "\n",
              "    .dataframe thead th {\n",
              "        text-align: right;\n",
              "    }\n",
              "</style>\n",
              "<table border=\"1\" class=\"dataframe\">\n",
              "  <thead>\n",
              "    <tr style=\"text-align: right;\">\n",
              "      <th></th>\n",
              "      <th>abv</th>\n",
              "      <th>ibu</th>\n",
              "      <th>target_fg</th>\n",
              "      <th>target_og</th>\n",
              "      <th>ebc</th>\n",
              "      <th>srm</th>\n",
              "      <th>ph</th>\n",
              "    </tr>\n",
              "    <tr>\n",
              "      <th>name</th>\n",
              "      <th></th>\n",
              "      <th></th>\n",
              "      <th></th>\n",
              "      <th></th>\n",
              "      <th></th>\n",
              "      <th></th>\n",
              "      <th></th>\n",
              "    </tr>\n",
              "  </thead>\n",
              "  <tbody>\n",
              "    <tr>\n",
              "      <th>This. Is. Lager</th>\n",
              "      <td>4.7</td>\n",
              "      <td>37</td>\n",
              "      <td>1007</td>\n",
              "      <td>1043</td>\n",
              "      <td>10.0</td>\n",
              "      <td>6.00</td>\n",
              "      <td>4.2</td>\n",
              "    </tr>\n",
              "    <tr>\n",
              "      <th>Hello My Name Is Ingrid 2016</th>\n",
              "      <td>8.2</td>\n",
              "      <td>70</td>\n",
              "      <td>1013</td>\n",
              "      <td>1076</td>\n",
              "      <td>30.0</td>\n",
              "      <td>15.20</td>\n",
              "      <td>5.2</td>\n",
              "    </tr>\n",
              "    <tr>\n",
              "      <th>Hunter Foundation Pale Ale</th>\n",
              "      <td>5.4</td>\n",
              "      <td>35</td>\n",
              "      <td>1008</td>\n",
              "      <td>1050</td>\n",
              "      <td>11.5</td>\n",
              "      <td>5.75</td>\n",
              "      <td>4.4</td>\n",
              "    </tr>\n",
              "    <tr>\n",
              "      <th>Pioneer - IPA Is Dead</th>\n",
              "      <td>7.2</td>\n",
              "      <td>100</td>\n",
              "      <td>1010</td>\n",
              "      <td>1064</td>\n",
              "      <td>12.0</td>\n",
              "      <td>6.00</td>\n",
              "      <td>4.4</td>\n",
              "    </tr>\n",
              "    <tr>\n",
              "      <th>Born To Die</th>\n",
              "      <td>8.5</td>\n",
              "      <td>85</td>\n",
              "      <td>1007</td>\n",
              "      <td>1072</td>\n",
              "      <td>15.0</td>\n",
              "      <td>7.50</td>\n",
              "      <td>4.4</td>\n",
              "    </tr>\n",
              "    <tr>\n",
              "      <th>Monk Hammer</th>\n",
              "      <td>7.2</td>\n",
              "      <td>250</td>\n",
              "      <td>1010</td>\n",
              "      <td>1065</td>\n",
              "      <td>15.0</td>\n",
              "      <td>7.50</td>\n",
              "      <td>4.4</td>\n",
              "    </tr>\n",
              "    <tr>\n",
              "      <th>Hello My Name is Sonja (w/ Evil Twin)</th>\n",
              "      <td>8.3</td>\n",
              "      <td>70</td>\n",
              "      <td>1013</td>\n",
              "      <td>1076</td>\n",
              "      <td>30.0</td>\n",
              "      <td>15.00</td>\n",
              "      <td>4.4</td>\n",
              "    </tr>\n",
              "    <tr>\n",
              "      <th>Everday Anarchy</th>\n",
              "      <td>10.5</td>\n",
              "      <td>45</td>\n",
              "      <td>1005</td>\n",
              "      <td>1081</td>\n",
              "      <td>15.0</td>\n",
              "      <td>7.50</td>\n",
              "      <td>4.4</td>\n",
              "    </tr>\n",
              "    <tr>\n",
              "      <th>Blonde Export Stout</th>\n",
              "      <td>7.0</td>\n",
              "      <td>55</td>\n",
              "      <td>1020</td>\n",
              "      <td>1075</td>\n",
              "      <td>16.0</td>\n",
              "      <td>8.00</td>\n",
              "      <td>4.4</td>\n",
              "    </tr>\n",
              "    <tr>\n",
              "      <th>Small Batch: Imperial Pale Weizen</th>\n",
              "      <td>7.5</td>\n",
              "      <td>25</td>\n",
              "      <td>1010</td>\n",
              "      <td>1067</td>\n",
              "      <td>18.0</td>\n",
              "      <td>9.00</td>\n",
              "      <td>4.4</td>\n",
              "    </tr>\n",
              "  </tbody>\n",
              "</table>\n",
              "</div>"
            ],
            "text/plain": [
              "                                        abv  ibu  target_fg  ...   ebc    srm   ph\n",
              "name                                                         ...                  \n",
              "This. Is. Lager                         4.7   37       1007  ...  10.0   6.00  4.2\n",
              "Hello My Name Is Ingrid 2016            8.2   70       1013  ...  30.0  15.20  5.2\n",
              "Hunter Foundation Pale Ale              5.4   35       1008  ...  11.5   5.75  4.4\n",
              "Pioneer - IPA Is Dead                   7.2  100       1010  ...  12.0   6.00  4.4\n",
              "Born To Die                             8.5   85       1007  ...  15.0   7.50  4.4\n",
              "Monk Hammer                             7.2  250       1010  ...  15.0   7.50  4.4\n",
              "Hello My Name is Sonja (w/ Evil Twin)   8.3   70       1013  ...  30.0  15.00  4.4\n",
              "Everday Anarchy                        10.5   45       1005  ...  15.0   7.50  4.4\n",
              "Blonde Export Stout                     7.0   55       1020  ...  16.0   8.00  4.4\n",
              "Small Batch: Imperial Pale Weizen       7.5   25       1010  ...  18.0   9.00  4.4\n",
              "\n",
              "[10 rows x 7 columns]"
            ]
          },
          "execution_count": 122,
          "metadata": {},
          "output_type": "execute_result"
        }
      ],
      "source": [
        "beer_modificado"
      ]
    },
    {
      "cell_type": "markdown",
      "metadata": {
        "id": "3M2Krd_8tE9n"
      },
      "source": [
        "## 3. Analytics dos Dados"
      ]
    },
    {
      "cell_type": "markdown",
      "metadata": {
        "id": "DQBTyJvvIX3d"
      },
      "source": [
        "#### 3.1 - Principais estatíticas"
      ]
    },
    {
      "cell_type": "markdown",
      "metadata": {
        "id": "mDtq8N2btBph"
      },
      "source": [
        "\n",
        "\n",
        "*   Principais elementos estatíticos através da função describe\n",
        "\n"
      ]
    },
    {
      "cell_type": "code",
      "execution_count": null,
      "metadata": {
        "id": "HHiK3bAfafW6"
      },
      "outputs": [],
      "source": [
        "describe = beer_modificado.describe()"
      ]
    },
    {
      "cell_type": "code",
      "execution_count": null,
      "metadata": {
        "colab": {
          "base_uri": "https://localhost:8080/"
        },
        "id": "0fnB_LdFGVki",
        "outputId": "264b4919-43c2-45ba-acea-e966dec77cc0"
      },
      "outputs": [
        {
          "data": {
            "text/html": [
              "<div>\n",
              "<style scoped>\n",
              "    .dataframe tbody tr th:only-of-type {\n",
              "        vertical-align: middle;\n",
              "    }\n",
              "\n",
              "    .dataframe tbody tr th {\n",
              "        vertical-align: top;\n",
              "    }\n",
              "\n",
              "    .dataframe thead th {\n",
              "        text-align: right;\n",
              "    }\n",
              "</style>\n",
              "<table border=\"1\" class=\"dataframe\">\n",
              "  <thead>\n",
              "    <tr style=\"text-align: right;\">\n",
              "      <th></th>\n",
              "      <th>abv</th>\n",
              "      <th>ibu</th>\n",
              "      <th>target_fg</th>\n",
              "      <th>target_og</th>\n",
              "      <th>ebc</th>\n",
              "      <th>srm</th>\n",
              "      <th>ph</th>\n",
              "    </tr>\n",
              "  </thead>\n",
              "  <tbody>\n",
              "    <tr>\n",
              "      <th>count</th>\n",
              "      <td>10.000000</td>\n",
              "      <td>10.000000</td>\n",
              "      <td>10.000000</td>\n",
              "      <td>10.000000</td>\n",
              "      <td>10.000000</td>\n",
              "      <td>10.000000</td>\n",
              "      <td>10.000000</td>\n",
              "    </tr>\n",
              "    <tr>\n",
              "      <th>mean</th>\n",
              "      <td>7.450000</td>\n",
              "      <td>77.200000</td>\n",
              "      <td>1010.300000</td>\n",
              "      <td>1066.900000</td>\n",
              "      <td>17.250000</td>\n",
              "      <td>8.745000</td>\n",
              "      <td>4.460000</td>\n",
              "    </tr>\n",
              "    <tr>\n",
              "      <th>std</th>\n",
              "      <td>1.625662</td>\n",
              "      <td>65.145649</td>\n",
              "      <td>4.270051</td>\n",
              "      <td>12.133059</td>\n",
              "      <td>7.115125</td>\n",
              "      <td>3.497654</td>\n",
              "      <td>0.267499</td>\n",
              "    </tr>\n",
              "    <tr>\n",
              "      <th>min</th>\n",
              "      <td>4.700000</td>\n",
              "      <td>25.000000</td>\n",
              "      <td>1005.000000</td>\n",
              "      <td>1043.000000</td>\n",
              "      <td>10.000000</td>\n",
              "      <td>5.750000</td>\n",
              "      <td>4.200000</td>\n",
              "    </tr>\n",
              "    <tr>\n",
              "      <th>25%</th>\n",
              "      <td>7.050000</td>\n",
              "      <td>39.000000</td>\n",
              "      <td>1007.250000</td>\n",
              "      <td>1064.250000</td>\n",
              "      <td>12.750000</td>\n",
              "      <td>6.375000</td>\n",
              "      <td>4.400000</td>\n",
              "    </tr>\n",
              "    <tr>\n",
              "      <th>50%</th>\n",
              "      <td>7.350000</td>\n",
              "      <td>62.500000</td>\n",
              "      <td>1010.000000</td>\n",
              "      <td>1069.500000</td>\n",
              "      <td>15.000000</td>\n",
              "      <td>7.500000</td>\n",
              "      <td>4.400000</td>\n",
              "    </tr>\n",
              "    <tr>\n",
              "      <th>75%</th>\n",
              "      <td>8.275000</td>\n",
              "      <td>81.250000</td>\n",
              "      <td>1012.250000</td>\n",
              "      <td>1075.750000</td>\n",
              "      <td>17.500000</td>\n",
              "      <td>8.750000</td>\n",
              "      <td>4.400000</td>\n",
              "    </tr>\n",
              "    <tr>\n",
              "      <th>max</th>\n",
              "      <td>10.500000</td>\n",
              "      <td>250.000000</td>\n",
              "      <td>1020.000000</td>\n",
              "      <td>1081.000000</td>\n",
              "      <td>30.000000</td>\n",
              "      <td>15.200000</td>\n",
              "      <td>5.200000</td>\n",
              "    </tr>\n",
              "  </tbody>\n",
              "</table>\n",
              "</div>"
            ],
            "text/plain": [
              "             abv         ibu    target_fg  ...        ebc        srm         ph\n",
              "count  10.000000   10.000000    10.000000  ...  10.000000  10.000000  10.000000\n",
              "mean    7.450000   77.200000  1010.300000  ...  17.250000   8.745000   4.460000\n",
              "std     1.625662   65.145649     4.270051  ...   7.115125   3.497654   0.267499\n",
              "min     4.700000   25.000000  1005.000000  ...  10.000000   5.750000   4.200000\n",
              "25%     7.050000   39.000000  1007.250000  ...  12.750000   6.375000   4.400000\n",
              "50%     7.350000   62.500000  1010.000000  ...  15.000000   7.500000   4.400000\n",
              "75%     8.275000   81.250000  1012.250000  ...  17.500000   8.750000   4.400000\n",
              "max    10.500000  250.000000  1020.000000  ...  30.000000  15.200000   5.200000\n",
              "\n",
              "[8 rows x 7 columns]"
            ]
          },
          "execution_count": 9,
          "metadata": {},
          "output_type": "execute_result"
        }
      ],
      "source": [
        "describe"
      ]
    },
    {
      "cell_type": "code",
      "execution_count": null,
      "metadata": {
        "id": "l58lGfHUyWbv"
      },
      "outputs": [],
      "source": [
        "import statistics\n",
        "import math\n",
        "from scipy import stats"
      ]
    },
    {
      "cell_type": "code",
      "execution_count": null,
      "metadata": {
        "id": "rcCrtHRbGmJr"
      },
      "outputs": [],
      "source": [
        "def statistic_analytics(lista):\n",
        "  m = statistics.mean(lista)\n",
        "  m0 = statistics.mode(lista)\n",
        "  md = statistics.median(lista)\n",
        "\n",
        "  # Coeficiente de variação (CV)\n",
        "  cv = (statistics.stdev(lista) / m)*100\n",
        "\n",
        "  # Assimetria\n",
        "  assimetria = stats.skew(lista)\n",
        "\n",
        "  # Curtose\n",
        "  curtose = stats.kurtosis(lista)\n",
        "\n",
        "  print(\"CV = {:.2f}% , Assimetria = {:.2f}, Curtose = {:.2f}\".format(cv, assimetria, curtose))"
      ]
    },
    {
      "cell_type": "markdown",
      "metadata": {
        "id": "jKOJaxGXHf6a"
      },
      "source": [
        "### 3.2 - Análise das Variáveis"
      ]
    },
    {
      "cell_type": "markdown",
      "metadata": {
        "id": "gtwZS0JEvwAx"
      },
      "source": [
        "\n",
        "\n",
        "#### 3.2.1 -Análise da Variável Quantitativa ABV\n",
        "\n"
      ]
    },
    {
      "cell_type": "code",
      "execution_count": null,
      "metadata": {
        "colab": {
          "base_uri": "https://localhost:8080/"
        },
        "id": "s6w4dDnVvuEY",
        "outputId": "ccdff541-8010-4871-c89f-8e59c294f02f"
      },
      "outputs": [
        {
          "name": "stdout",
          "output_type": "stream",
          "text": [
            "CV = 21.82% , Assimetria = 0.03, Curtose = -0.11\n"
          ]
        }
      ],
      "source": [
        "lista_abv = beer_modificado.abv\n",
        "statistic_analytics(lista_abv)"
      ]
    },
    {
      "cell_type": "markdown",
      "metadata": {
        "id": "806IP9Dt2Q4d"
      },
      "source": [
        "Conclusão Variável 1:\n",
        "\n",
        "Usando como base o CV valor de 21%, é um CV baixo e caracteriza:\n",
        "  - uma menor dispersão dos dados, \n",
        "  - dados são mais homogênios,\n",
        "  - dados estão mais concentrados em torno da média.\n",
        "\n",
        "Resumo características:\n",
        "  - curva pequena assimetria positiva - curva pra direita (valor muito próximo de zero)\n",
        "  - curva com distribuição achatada (curtose negativa)"
      ]
    },
    {
      "cell_type": "code",
      "execution_count": null,
      "metadata": {
        "colab": {
          "base_uri": "https://localhost:8080/"
        },
        "id": "ZzlxFSWiB5if",
        "outputId": "bf9c2e6a-97de-4794-c6cb-93a4a7e746df"
      },
      "outputs": [
        {
          "data": {
            "text/plain": [
              "<matplotlib.axes._subplots.AxesSubplot at 0x7efc6f6bd9d0>"
            ]
          },
          "execution_count": 13,
          "metadata": {},
          "output_type": "execute_result"
        },
        {
          "data": {
            "image/png": "[encoded data removed]",
            "text/plain": [
              "<Figure size 360x216 with 1 Axes>"
            ]
          },
          "metadata": {
            "needs_background": "light"
          },
          "output_type": "display_data"
        }
      ],
      "source": [
        "#Plotando o gráfico do ABV\n",
        "\n",
        "plt.figure(figsize=(5,3))\n",
        "sns.histplot(lista_abv, stat=\"density\", kde=True)"
      ]
    },
    {
      "cell_type": "markdown",
      "metadata": {
        "id": "MTzpjqiQFjAV"
      },
      "source": [
        "#### 3.2.2 -Análise da Variável Quantitativa IBU"
      ]
    },
    {
      "cell_type": "code",
      "execution_count": null,
      "metadata": {
        "colab": {
          "base_uri": "https://localhost:8080/"
        },
        "id": "PaHlW7laGLMC",
        "outputId": "6bdf3afc-8303-41ee-d666-a9f6ef336b72"
      },
      "outputs": [
        {
          "name": "stdout",
          "output_type": "stream",
          "text": [
            "CV = 84.39% , Assimetria = 2.05, Curtose = 3.21\n"
          ]
        }
      ],
      "source": [
        "lista_ibu = beer_modificado.ibu\n",
        "statistic_analytics(lista_ibu)"
      ]
    },
    {
      "cell_type": "markdown",
      "metadata": {
        "id": "0jF2JLf3GLjX"
      },
      "source": [
        "Conclusão Variável 2:\n",
        "\n",
        "Usando como base o CV valor de 85%, é um CV alto e caracteriza:\n",
        "  - uma maior dispersão dos dados, \n",
        "  - dados são menos homogênios,\n",
        "  - dados estão mais expalhados.\n",
        "\n",
        "Resumo características:\n",
        "  - curva assimétrica positiva - cauda pra direita\n",
        "  - maior concentração de dados á esquerda do gráfico, ou seja mais cervejas com menor ibu (em torno de 50).\n",
        "  - curva com distribuição alongada (curtose positiva)"
      ]
    },
    {
      "cell_type": "code",
      "execution_count": null,
      "metadata": {
        "colab": {
          "base_uri": "https://localhost:8080/"
        },
        "id": "5145b0xBGL72",
        "outputId": "a2160899-c6a6-40c8-d62e-6e5ec95c06b0"
      },
      "outputs": [
        {
          "data": {
            "text/plain": [
              "<matplotlib.axes._subplots.AxesSubplot at 0x7efc68fa0050>"
            ]
          },
          "execution_count": 15,
          "metadata": {},
          "output_type": "execute_result"
        },
        {
          "data": {
            "image/png": "[encoded data removed]",
            "text/plain": [
              "<Figure size 360x216 with 1 Axes>"
            ]
          },
          "metadata": {
            "needs_background": "light"
          },
          "output_type": "display_data"
        }
      ],
      "source": [
        "#Plotando o gráfico do IBU\n",
        "\n",
        "plt.figure(figsize=(5,3))\n",
        "sns.histplot(lista_ibu, stat=\"density\", kde=True)"
      ]
    },
    {
      "cell_type": "markdown",
      "metadata": {
        "id": "_L-2pPqNAJHy"
      },
      "source": [
        "#### 3.2.3 -Análise da Variável Quantitativa target_FG"
      ]
    },
    {
      "cell_type": "code",
      "execution_count": null,
      "metadata": {
        "colab": {
          "base_uri": "https://localhost:8080/"
        },
        "id": "O60--lmOAxus",
        "outputId": "96dad239-a5bc-49fa-9120-f6a29b93be59"
      },
      "outputs": [
        {
          "name": "stdout",
          "output_type": "stream",
          "text": [
            "CV = 0.42% , Assimetria = 1.08, Curtose = 0.72\n"
          ]
        }
      ],
      "source": [
        "lista_fg = beer_modificado.target_fg\n",
        "statistic_analytics(lista_fg)"
      ]
    },
    {
      "cell_type": "markdown",
      "metadata": {
        "id": "nMXlta1tAxut"
      },
      "source": [
        "Conclusão Variável 3:\n",
        "\n",
        "Usando como base o CV valor de 0.42%, é um CV baixo e caracteriza:\n",
        "  - uma menor dispersão dos dados, \n",
        "  - dados são mais homogênios,\n",
        "  - dados estão mais próximos da média.\n",
        "\n",
        "Resumo características:\n",
        "  - curva assimétrica positiva - cauda pra direita\n",
        "  - maior concentração de dados á esquerda do gráfico, ou seja mais cervejas com menor fg (em torno de 1005).\n",
        "  - curva com distribuição mais próxima da média (curtose positiva próxima de zero)"
      ]
    },
    {
      "cell_type": "code",
      "execution_count": null,
      "metadata": {
        "colab": {
          "base_uri": "https://localhost:8080/"
        },
        "id": "d8SXOd5AAxut",
        "outputId": "2b1dbfde-52c6-49d3-94f1-39c4c7c1f851"
      },
      "outputs": [
        {
          "data": {
            "text/plain": [
              "<matplotlib.axes._subplots.AxesSubplot at 0x7efc65c71450>"
            ]
          },
          "execution_count": 17,
          "metadata": {},
          "output_type": "execute_result"
        },
        {
          "data": {
            "image/png": "[encoded data removed]",
            "text/plain": [
              "<Figure size 360x216 with 1 Axes>"
            ]
          },
          "metadata": {
            "needs_background": "light"
          },
          "output_type": "display_data"
        }
      ],
      "source": [
        "#Plotando o gráfico do FG\n",
        "\n",
        "plt.figure(figsize=(5,3))\n",
        "sns.histplot(lista_fg, stat=\"density\", kde=True)"
      ]
    },
    {
      "cell_type": "markdown",
      "metadata": {
        "id": "DYFEulvDAOmg"
      },
      "source": [
        "#### 3.2.4 -Análise da Variável Quantitativa target_OG\t"
      ]
    },
    {
      "cell_type": "code",
      "execution_count": null,
      "metadata": {
        "colab": {
          "base_uri": "https://localhost:8080/"
        },
        "id": "grHBoV_UAyrR",
        "outputId": "f7b9b92d-951d-4a35-82fe-9da5981ec32b"
      },
      "outputs": [
        {
          "name": "stdout",
          "output_type": "stream",
          "text": [
            "CV = 1.14% , Assimetria = -0.89, Curtose = -0.34\n"
          ]
        }
      ],
      "source": [
        "lista_og = beer_modificado.target_og\n",
        "statistic_analytics(lista_og)"
      ]
    },
    {
      "cell_type": "markdown",
      "metadata": {
        "id": "SDfPZu4cAyrS"
      },
      "source": [
        "Conclusão Variável 4:\n",
        "\n",
        "Usando como base o CV valor de 1.14%, é um CV baixo e caracteriza:\n",
        "  - uma menor dispersão dos dados, \n",
        "  - dados são mais homogênios,\n",
        "  - dados estão mais próximos da média.\n",
        "\n",
        "Resumo características:\n",
        "  - curva assimétrica negativa - cauda pra esquerda\n",
        "  - maior concentração de dados á direita do gráfico, ou seja mais cervejas com maior og (em torno de 1080).\n",
        "  - curva com distribuição mais próxima de uma normal (curtose negativa próxima de zero)"
      ]
    },
    {
      "cell_type": "code",
      "execution_count": null,
      "metadata": {
        "colab": {
          "base_uri": "https://localhost:8080/"
        },
        "id": "8AZ79USoAyrS",
        "outputId": "4d38b530-8e7f-4a06-f670-edacf2f14566"
      },
      "outputs": [
        {
          "data": {
            "text/plain": [
              "<matplotlib.axes._subplots.AxesSubplot at 0x7efc657c0e10>"
            ]
          },
          "execution_count": 19,
          "metadata": {},
          "output_type": "execute_result"
        },
        {
          "data": {
            "image/png": "[encoded data removed]",
            "text/plain": [
              "<Figure size 360x216 with 1 Axes>"
            ]
          },
          "metadata": {
            "needs_background": "light"
          },
          "output_type": "display_data"
        }
      ],
      "source": [
        "#Plotando o gráfico do OG\n",
        "\n",
        "plt.figure(figsize=(5,3))\n",
        "sns.histplot(lista_og, stat=\"density\", kde=True)"
      ]
    },
    {
      "cell_type": "markdown",
      "metadata": {
        "id": "cph0k8-xAPfq"
      },
      "source": [
        "#### 3.2.5 -Análise da Variável Quantitativa EBC"
      ]
    },
    {
      "cell_type": "code",
      "execution_count": null,
      "metadata": {
        "colab": {
          "base_uri": "https://localhost:8080/"
        },
        "id": "vaKiSe_2Azp4",
        "outputId": "d2b38020-6bee-4fd5-8a2d-69036ae3cad5"
      },
      "outputs": [
        {
          "name": "stdout",
          "output_type": "stream",
          "text": [
            "CV = 41.25% , Assimetria = 1.10, Curtose = -0.23\n"
          ]
        }
      ],
      "source": [
        "lista_ebc = beer_modificado.ebc\n",
        "statistic_analytics(lista_ebc)"
      ]
    },
    {
      "cell_type": "markdown",
      "metadata": {
        "id": "lZLeEjaNAzp5"
      },
      "source": [
        "Conclusão Variável 5:\n",
        "\n",
        "Usando como base o CV valor de 41%, é um CV alto e caracteriza:\n",
        "  - uma maior dispersão dos dados, \n",
        "  - dados são menos homogênios,\n",
        "  - dados estão mais expalhados.\n",
        "\n",
        "Resumo características:\n",
        "  - curva assimétrica positiva - cauda pra direita\n",
        "  - maior concentração de dados á esquerda do gráfico, ou seja mais cervejas com menor ebc (em torno de 15).\n",
        "  - curva com distribuição próxima da normal (curtose negativa próxima de zero)"
      ]
    },
    {
      "cell_type": "code",
      "execution_count": null,
      "metadata": {
        "colab": {
          "base_uri": "https://localhost:8080/"
        },
        "id": "9OPEwv2NAzp5",
        "outputId": "d2ff2072-5d72-4dc1-ef40-6d0c5afac96b"
      },
      "outputs": [
        {
          "data": {
            "text/plain": [
              "<matplotlib.axes._subplots.AxesSubplot at 0x7efc65741d90>"
            ]
          },
          "execution_count": 21,
          "metadata": {},
          "output_type": "execute_result"
        },
        {
          "data": {
            "image/png": "[encoded data removed]",
            "text/plain": [
              "<Figure size 360x216 with 1 Axes>"
            ]
          },
          "metadata": {
            "needs_background": "light"
          },
          "output_type": "display_data"
        }
      ],
      "source": [
        "#Plotando o gráfico do EBC\n",
        "\n",
        "plt.figure(figsize=(5,3))\n",
        "sns.histplot(lista_ebc, stat=\"density\", kde=True)"
      ]
    },
    {
      "cell_type": "markdown",
      "metadata": {
        "id": "7K3i_pQoAObV"
      },
      "source": [
        "#### 3.2.6 -Análise da Variável Quantitativa SRM"
      ]
    },
    {
      "cell_type": "code",
      "execution_count": null,
      "metadata": {
        "colab": {
          "base_uri": "https://localhost:8080/"
        },
        "id": "sWBv5ZwpA0af",
        "outputId": "2b80b7c1-a79b-45e1-ebc1-9f24eb8351ff"
      },
      "outputs": [
        {
          "name": "stdout",
          "output_type": "stream",
          "text": [
            "CV = 40.00% , Assimetria = 1.20, Curtose = -0.14\n"
          ]
        }
      ],
      "source": [
        "lista_srm = beer_modificado.srm\n",
        "statistic_analytics(lista_srm)"
      ]
    },
    {
      "cell_type": "markdown",
      "metadata": {
        "id": "2bO4QCPzA0ag"
      },
      "source": [
        "Conclusão Variável 6:\n",
        "\n",
        "Usando como base o CV valor de 40%, é um CV alto e caracteriza:\n",
        "  - uma maior dispersão dos dados, \n",
        "  - dados são menos homogênios,\n",
        "  - dados estão mais expalhados.\n",
        "\n",
        "Resumo características:\n",
        "  - curva assimétrica positiva - cauda pra direita\n",
        "  - maior concentração de dados á esquerda do gráfico, ou seja mais cervejas com menor ebc (em torno de 6).\n",
        "  - curva com distribuição próxima da normal (curtose negativa próxima de zero)"
      ]
    },
    {
      "cell_type": "code",
      "execution_count": null,
      "metadata": {
        "colab": {
          "base_uri": "https://localhost:8080/"
        },
        "id": "9h5Z_kMAA0ag",
        "outputId": "602371f3-15fb-4333-f403-794bd4299fb9"
      },
      "outputs": [
        {
          "data": {
            "text/plain": [
              "<matplotlib.axes._subplots.AxesSubplot at 0x7efc6565b950>"
            ]
          },
          "execution_count": 23,
          "metadata": {},
          "output_type": "execute_result"
        },
        {
          "data": {
            "image/png": "[encoded data removed]",
            "text/plain": [
              "<Figure size 360x216 with 1 Axes>"
            ]
          },
          "metadata": {
            "needs_background": "light"
          },
          "output_type": "display_data"
        }
      ],
      "source": [
        "#Plotando o gráfico do SRM\n",
        "\n",
        "plt.figure(figsize=(5,3))\n",
        "sns.histplot(lista_srm, stat=\"density\", kde=True)"
      ]
    },
    {
      "cell_type": "markdown",
      "metadata": {
        "id": "uOa4wrQNAOIc"
      },
      "source": [
        "#### 3.2.7 -Análise da Variável Quantitativa PH"
      ]
    },
    {
      "cell_type": "code",
      "execution_count": null,
      "metadata": {
        "colab": {
          "base_uri": "https://localhost:8080/"
        },
        "id": "eClih0_uA1ZJ",
        "outputId": "dd68351a-1849-4878-b7c7-f6c58308db5f"
      },
      "outputs": [
        {
          "name": "stdout",
          "output_type": "stream",
          "text": [
            "CV = 6.00% , Assimetria = 2.36, Curtose = 4.34\n"
          ]
        }
      ],
      "source": [
        "lista_ph = beer_modificado.ph\n",
        "statistic_analytics(lista_ph)"
      ]
    },
    {
      "cell_type": "markdown",
      "metadata": {
        "id": "Qvx2AnNJA1ZJ"
      },
      "source": [
        "Conclusão Variável 2:\n",
        "\n",
        "Usando como base o CV valor de 6%, é um CV baixo e caracteriza:\n",
        "  - uma menor dispersão dos dados, \n",
        "  - dados são mais homogênios,\n",
        "  - dados estão mais próximos da média.\n",
        "\n",
        "Resumo características:\n",
        "  - curva assimétrica positiva - cauda pra direita\n",
        "  - maior concentração de dados á esquerda do gráfico, ou seja mais cervejas com menor ph (em torno de 4.4).\n",
        "  - curva com distribuição alongada (curtose positiva)"
      ]
    },
    {
      "cell_type": "code",
      "execution_count": null,
      "metadata": {
        "colab": {
          "base_uri": "https://localhost:8080/"
        },
        "id": "m_qdzB-bA1ZK",
        "outputId": "81727824-ae39-4a9a-de04-1d71ed0441c3"
      },
      "outputs": [
        {
          "data": {
            "text/plain": [
              "<matplotlib.axes._subplots.AxesSubplot at 0x7efc656343d0>"
            ]
          },
          "execution_count": 25,
          "metadata": {},
          "output_type": "execute_result"
        },
        {
          "data": {
            "image/png": "[encoded data removed]",
            "text/plain": [
              "<Figure size 360x216 with 1 Axes>"
            ]
          },
          "metadata": {
            "needs_background": "light"
          },
          "output_type": "display_data"
        }
      ],
      "source": [
        "#Plotando o gráfico do IBU\n",
        "\n",
        "plt.figure(figsize=(5,3))\n",
        "sns.histplot(lista_ph, stat=\"density\", kde=True)"
      ]
    },
    {
      "cell_type": "markdown",
      "metadata": {
        "id": "Qi2NY7XpHKKS"
      },
      "source": [
        "### 3.3 -Análise das Correlações"
      ]
    },
    {
      "cell_type": "code",
      "execution_count": null,
      "metadata": {
        "colab": {
          "base_uri": "https://localhost:8080/"
        },
        "id": "8-rGb0dlbCoy",
        "outputId": "be99b679-4933-4dbe-ee82-b5ea66b11732"
      },
      "outputs": [
        {
          "data": {
            "text/plain": [
              "<matplotlib.axes._subplots.AxesSubplot at 0x7efc65539390>"
            ]
          },
          "execution_count": 26,
          "metadata": {},
          "output_type": "execute_result"
        },
        {
          "data": {
            "image/png": "[encoded data removed]",
            "text/plain": [
              "<Figure size 1080x1080 with 1 Axes>"
            ]
          },
          "metadata": {
            "needs_background": "light"
          },
          "output_type": "display_data"
        }
      ],
      "source": [
        "plt.figure(figsize=(15,15))\n",
        "\n",
        "corr = np.corrcoef(beer_modificado.values, rowvar=False)\n",
        "sns.heatmap(corr, annot=True, cmap='Blues', fmt='.2f', cbar=False, xticklabels=beer_modificado.columns, yticklabels=beer_modificado.columns)"
      ]
    },
    {
      "cell_type": "markdown",
      "metadata": {
        "id": "bKoXeVkXIwoM"
      },
      "source": [
        "Conclusões:\n",
        "\n",
        "Correlação muito forte (0.90 - 1.00):\n",
        " - srm e ebc = 1.00\n",
        " - target_og e abv = 0.91\n",
        "\n",
        "Correlação forte (0.70 - 0.89): nenhuma\n",
        "\n",
        "Correlação moderada (0.40 - 0.69):\n",
        " - ph e ebc = 0.68\n",
        " - ph e srm = 0.68\n",
        " - target_og e ebc = 0.60\n",
        " - target_og e srm = 0.56\n",
        " - ebc e abv = 0.44\n",
        " - target_fg e ebc = 0.42\n",
        " - target_fg e srm = 0.41\n",
        " - target_og e ph = 0.42\n",
        " \n",
        "\n",
        " Se tivessemos muitas variáveis, provavelmente faria escolha entre:\n",
        "  - srm ou ebc\n",
        "  - target_og ou abv"
      ]
    },
    {
      "cell_type": "markdown",
      "metadata": {
        "id": "hfn2XPIjH5mc"
      },
      "source": [
        "### 3.3 - Padronização das variáveis"
      ]
    },
    {
      "cell_type": "markdown",
      "metadata": {
        "id": "ouG1gum5OYe8"
      },
      "source": [
        "Para que a análise de cluster funcione:\n",
        "  - variáveis precisam ser quantitativas\n",
        "  - precisam ter o mesmo peso, pois se isso não acontecer o resultado tende para a variável de maior peso.\n",
        "\n",
        "Técnica utilizada - Z-score:\n",
        " - média zero e desvio padrão 1"
      ]
    },
    {
      "cell_type": "code",
      "execution_count": null,
      "metadata": {
        "id": "-DZL7Wn2bqXI"
      },
      "outputs": [],
      "source": [
        "beer_scaled = beer_modificado.copy()\n",
        "\n",
        "beer_scaled.iloc[:, :] = StandardScaler().fit_transform(beer_modificado)"
      ]
    },
    {
      "cell_type": "code",
      "execution_count": null,
      "metadata": {
        "colab": {
          "base_uri": "https://localhost:8080/"
        },
        "id": "son0bQY7ldbd",
        "outputId": "8f578b66-421f-4645-e75c-102a9da64e31"
      },
      "outputs": [
        {
          "data": {
            "text/html": [
              "<div>\n",
              "<style scoped>\n",
              "    .dataframe tbody tr th:only-of-type {\n",
              "        vertical-align: middle;\n",
              "    }\n",
              "\n",
              "    .dataframe tbody tr th {\n",
              "        vertical-align: top;\n",
              "    }\n",
              "\n",
              "    .dataframe thead th {\n",
              "        text-align: right;\n",
              "    }\n",
              "</style>\n",
              "<table border=\"1\" class=\"dataframe\">\n",
              "  <thead>\n",
              "    <tr style=\"text-align: right;\">\n",
              "      <th></th>\n",
              "      <th>abv</th>\n",
              "      <th>ibu</th>\n",
              "      <th>target_fg</th>\n",
              "      <th>target_og</th>\n",
              "      <th>ebc</th>\n",
              "      <th>srm</th>\n",
              "      <th>ph</th>\n",
              "    </tr>\n",
              "    <tr>\n",
              "      <th>name</th>\n",
              "      <th></th>\n",
              "      <th></th>\n",
              "      <th></th>\n",
              "      <th></th>\n",
              "      <th></th>\n",
              "      <th></th>\n",
              "      <th></th>\n",
              "    </tr>\n",
              "  </thead>\n",
              "  <tbody>\n",
              "    <tr>\n",
              "      <th>This. Is. Lager</th>\n",
              "      <td>-1.783122</td>\n",
              "      <td>-0.650458</td>\n",
              "      <td>-0.814629</td>\n",
              "      <td>-2.076378</td>\n",
              "      <td>-1.074074</td>\n",
              "      <td>-0.827264</td>\n",
              "      <td>-1.024544</td>\n",
              "    </tr>\n",
              "    <tr>\n",
              "      <th>Hello My Name Is Ingrid 2016</th>\n",
              "      <td>0.486306</td>\n",
              "      <td>-0.116500</td>\n",
              "      <td>0.666514</td>\n",
              "      <td>0.790587</td>\n",
              "      <td>1.888889</td>\n",
              "      <td>1.945352</td>\n",
              "      <td>2.916009</td>\n",
              "    </tr>\n",
              "    <tr>\n",
              "      <th>Hunter Foundation Pale Ale</th>\n",
              "      <td>-1.329237</td>\n",
              "      <td>-0.682819</td>\n",
              "      <td>-0.567771</td>\n",
              "      <td>-1.468234</td>\n",
              "      <td>-0.851852</td>\n",
              "      <td>-0.902607</td>\n",
              "      <td>-0.236433</td>\n",
              "    </tr>\n",
              "    <tr>\n",
              "      <th>Pioneer - IPA Is Dead</th>\n",
              "      <td>-0.162102</td>\n",
              "      <td>0.368917</td>\n",
              "      <td>-0.074057</td>\n",
              "      <td>-0.251945</td>\n",
              "      <td>-0.777778</td>\n",
              "      <td>-0.827264</td>\n",
              "      <td>-0.236433</td>\n",
              "    </tr>\n",
              "    <tr>\n",
              "      <th>Born To Die</th>\n",
              "      <td>0.680828</td>\n",
              "      <td>0.126208</td>\n",
              "      <td>-0.814629</td>\n",
              "      <td>0.443076</td>\n",
              "      <td>-0.333333</td>\n",
              "      <td>-0.375207</td>\n",
              "      <td>-0.236433</td>\n",
              "    </tr>\n",
              "    <tr>\n",
              "      <th>Monk Hammer</th>\n",
              "      <td>-0.162102</td>\n",
              "      <td>2.795999</td>\n",
              "      <td>-0.074057</td>\n",
              "      <td>-0.165068</td>\n",
              "      <td>-0.333333</td>\n",
              "      <td>-0.375207</td>\n",
              "      <td>-0.236433</td>\n",
              "    </tr>\n",
              "    <tr>\n",
              "      <th>Hello My Name is Sonja (w/ Evil Twin)</th>\n",
              "      <td>0.551147</td>\n",
              "      <td>-0.116500</td>\n",
              "      <td>0.666514</td>\n",
              "      <td>0.790587</td>\n",
              "      <td>1.888889</td>\n",
              "      <td>1.885078</td>\n",
              "      <td>-0.236433</td>\n",
              "    </tr>\n",
              "    <tr>\n",
              "      <th>Everday Anarchy</th>\n",
              "      <td>1.977645</td>\n",
              "      <td>-0.521014</td>\n",
              "      <td>-1.308343</td>\n",
              "      <td>1.224976</td>\n",
              "      <td>-0.333333</td>\n",
              "      <td>-0.375207</td>\n",
              "      <td>-0.236433</td>\n",
              "    </tr>\n",
              "    <tr>\n",
              "      <th>Blonde Export Stout</th>\n",
              "      <td>-0.291784</td>\n",
              "      <td>-0.359208</td>\n",
              "      <td>2.394514</td>\n",
              "      <td>0.703710</td>\n",
              "      <td>-0.185185</td>\n",
              "      <td>-0.224522</td>\n",
              "      <td>-0.236433</td>\n",
              "    </tr>\n",
              "    <tr>\n",
              "      <th>Small Batch: Imperial Pale Weizen</th>\n",
              "      <td>0.032420</td>\n",
              "      <td>-0.844625</td>\n",
              "      <td>-0.074057</td>\n",
              "      <td>0.008688</td>\n",
              "      <td>0.111111</td>\n",
              "      <td>0.076850</td>\n",
              "      <td>-0.236433</td>\n",
              "    </tr>\n",
              "  </tbody>\n",
              "</table>\n",
              "</div>"
            ],
            "text/plain": [
              "                                            abv       ibu  ...       srm        ph\n",
              "name                                                       ...                    \n",
              "This. Is. Lager                       -1.783122 -0.650458  ... -0.827264 -1.024544\n",
              "Hello My Name Is Ingrid 2016           0.486306 -0.116500  ...  1.945352  2.916009\n",
              "Hunter Foundation Pale Ale            -1.329237 -0.682819  ... -0.902607 -0.236433\n",
              "Pioneer - IPA Is Dead                 -0.162102  0.368917  ... -0.827264 -0.236433\n",
              "Born To Die                            0.680828  0.126208  ... -0.375207 -0.236433\n",
              "Monk Hammer                           -0.162102  2.795999  ... -0.375207 -0.236433\n",
              "Hello My Name is Sonja (w/ Evil Twin)  0.551147 -0.116500  ...  1.885078 -0.236433\n",
              "Everday Anarchy                        1.977645 -0.521014  ... -0.375207 -0.236433\n",
              "Blonde Export Stout                   -0.291784 -0.359208  ... -0.224522 -0.236433\n",
              "Small Batch: Imperial Pale Weizen      0.032420 -0.844625  ...  0.076850 -0.236433\n",
              "\n",
              "[10 rows x 7 columns]"
            ]
          },
          "execution_count": 28,
          "metadata": {},
          "output_type": "execute_result"
        }
      ],
      "source": [
        "beer_scaled"
      ]
    },
    {
      "cell_type": "markdown",
      "metadata": {
        "id": "X4CrqO-8QWWp"
      },
      "source": [
        "## Aprendizado Não Supervisionado - Análise de Cluster"
      ]
    },
    {
      "cell_type": "markdown",
      "metadata": {
        "id": "OQukwLp0Qhy7"
      },
      "source": [
        "O objetivo da Análise de Cluster é agrupar as observações de tal forma que:\n",
        "- dentro de cada grupo as observações sejam semelhates (menor variância inter-grupos)\n",
        "- entre si e distintas entre os grupos (maior variância intra-grupos)"
      ]
    },
    {
      "cell_type": "markdown",
      "metadata": {
        "id": "ENcblJM_RJmv"
      },
      "source": [
        "Com base nas distâncias entre as variáveis, geramos a matriz de de Distância, que servirá de base para o próximo passo, que é a escolha da Técnica de Agrupamento."
      ]
    },
    {
      "cell_type": "markdown",
      "metadata": {
        "id": "ILGcdGaARj5c"
      },
      "source": [
        "**Técnicas de Agrupamento**\n",
        "\n",
        "1. Método do Vizinho mais próximo (Single Linkage)\n",
        "2. Método do Vizinho mais longe (Complete Linkage)\n",
        "3. Método da Média (Average Linkage)\n",
        "4. Método do Centróide (Centroid Linkage)\n",
        "5. Método da Variância Mínima de Ward (Ward's Linkage)"
      ]
    },
    {
      "cell_type": "markdown",
      "metadata": {
        "id": "0AewTOYbSrmf"
      },
      "source": [
        "### 1. Método do Vizinho mais próximo (Single Linkage)"
      ]
    },
    {
      "cell_type": "code",
      "execution_count": null,
      "metadata": {
        "colab": {
          "base_uri": "https://localhost:8080/"
        },
        "id": "LiZZXr0OTAeg",
        "outputId": "4ec98e7d-3b0c-46a3-ef2a-4f4dafd47a78"
      },
      "outputs": [
        {
          "data": {
            "image/png": "[encoded data removed]",
            "text/plain": [
              "<Figure size 1440x360 with 1 Axes>"
            ]
          },
          "metadata": {
            "needs_background": "light"
          },
          "output_type": "display_data"
        }
      ],
      "source": [
        "Z = hierarchy.linkage(beer_scaled, 'single')\n",
        "\n",
        "plt.figure(figsize=(20,5))\n",
        "plt.grid(axis='y')\n",
        "dn = hierarchy.dendrogram(Z, labels=list(beer_scaled.index), leaf_font_size=8)"
      ]
    },
    {
      "cell_type": "markdown",
      "metadata": {
        "id": "cS0EnabXSzep"
      },
      "source": [
        "### 2. Método do Vizinho mais longe (Complete Linkage)"
      ]
    },
    {
      "cell_type": "code",
      "execution_count": null,
      "metadata": {
        "colab": {
          "base_uri": "https://localhost:8080/"
        },
        "id": "VLtTmkxeTS8R",
        "outputId": "23b1b2cd-8012-4407-8125-d1e149e98f97"
      },
      "outputs": [
        {
          "data": {
            "image/png": "[encoded data removed]",
            "text/plain": [
              "<Figure size 1440x360 with 1 Axes>"
            ]
          },
          "metadata": {
            "needs_background": "light"
          },
          "output_type": "display_data"
        }
      ],
      "source": [
        "Z = hierarchy.linkage(beer_scaled, 'complete')\n",
        "\n",
        "plt.figure(figsize=(20,5))\n",
        "plt.grid(axis='y')\n",
        "dn = hierarchy.dendrogram(Z, labels=list(beer_scaled.index), leaf_font_size=8)"
      ]
    },
    {
      "cell_type": "markdown",
      "metadata": {
        "id": "u9GLfOb7SzWw"
      },
      "source": [
        "### 3. Método da Média (Average Linkage)"
      ]
    },
    {
      "cell_type": "code",
      "execution_count": null,
      "metadata": {
        "colab": {
          "base_uri": "https://localhost:8080/"
        },
        "id": "NL79l7HOTWvp",
        "outputId": "6b50cf24-c843-4d74-b3f4-ad78af86796c"
      },
      "outputs": [
        {
          "data": {
            "image/png": "[encoded data removed]",
            "text/plain": [
              "<Figure size 1440x360 with 1 Axes>"
            ]
          },
          "metadata": {
            "needs_background": "light"
          },
          "output_type": "display_data"
        }
      ],
      "source": [
        "Z = hierarchy.linkage(beer_scaled, 'average')\n",
        "\n",
        "plt.figure(figsize=(20,5))\n",
        "plt.grid(axis='y')\n",
        "dn = hierarchy.dendrogram(Z, labels=list(beer_scaled.index), leaf_font_size=8)"
      ]
    },
    {
      "cell_type": "markdown",
      "metadata": {
        "id": "pgvd9I3uSzOG"
      },
      "source": [
        "### 4. Método do Centróide (Centroid Linkage)"
      ]
    },
    {
      "cell_type": "code",
      "execution_count": null,
      "metadata": {
        "colab": {
          "base_uri": "https://localhost:8080/"
        },
        "id": "CkFUSovsT3OF",
        "outputId": "fb0e2b82-ddfb-4914-ef07-103e18bf0314"
      },
      "outputs": [
        {
          "data": {
            "image/png": "[encoded data removed]",
            "text/plain": [
              "<Figure size 1440x360 with 1 Axes>"
            ]
          },
          "metadata": {
            "needs_background": "light"
          },
          "output_type": "display_data"
        }
      ],
      "source": [
        "Z = hierarchy.linkage(beer_scaled, 'centroid')\n",
        "\n",
        "plt.figure(figsize=(20,5))\n",
        "plt.grid(axis='y')\n",
        "dn = hierarchy.dendrogram(Z, labels=list(beer_scaled.index), leaf_font_size=8)"
      ]
    },
    {
      "cell_type": "markdown",
      "metadata": {
        "id": "H_zuZhnXSy87"
      },
      "source": [
        "### 5. Método da Variância Mínima de Ward (Ward's Linkage)"
      ]
    },
    {
      "cell_type": "code",
      "execution_count": null,
      "metadata": {
        "colab": {
          "base_uri": "https://localhost:8080/"
        },
        "id": "JoO5qXDfT5KL",
        "outputId": "6db287cf-1a79-4a3b-d6c5-49275c3cb8f9"
      },
      "outputs": [
        {
          "data": {
            "image/png": "[encoded data removed]",
            "text/plain": [
              "<Figure size 1440x360 with 1 Axes>"
            ]
          },
          "metadata": {
            "needs_background": "light"
          },
          "output_type": "display_data"
        }
      ],
      "source": [
        "Z = hierarchy.linkage(beer_scaled, 'weighted')\n",
        "\n",
        "plt.figure(figsize=(20,5))\n",
        "plt.grid(axis='y')\n",
        "dn = hierarchy.dendrogram(Z, labels=list(beer_scaled.index), leaf_font_size=8)"
      ]
    },
    {
      "cell_type": "markdown",
      "metadata": {
        "id": "3lTo5cP1chg-"
      },
      "source": [
        "## 4. Cluster Hierárquico"
      ]
    },
    {
      "cell_type": "markdown",
      "metadata": {
        "id": "YEomguVZUM6-"
      },
      "source": [
        "### 4.1 Técnica escolhida - Vizinho mais próximo"
      ]
    },
    {
      "cell_type": "code",
      "execution_count": null,
      "metadata": {
        "colab": {
          "base_uri": "https://localhost:8080/",
          "height": 321
        },
        "id": "owJU5jUvckdD",
        "outputId": "e84b3572-7c38-4caf-a45f-271c51933776"
      },
      "outputs": [
        {
          "data": {
            "image/png": "[encoded data removed]",
            "text/plain": [
              "<Figure size 1440x360 with 1 Axes>"
            ]
          },
          "metadata": {
            "needs_background": "light"
          },
          "output_type": "display_data"
        }
      ],
      "source": [
        "Z = hierarchy.linkage(beer_scaled, 'single')\n",
        "\n",
        "plt.figure(figsize=(20,5))\n",
        "plt.grid(axis='y')\n",
        "dn = hierarchy.dendrogram(Z, labels=list(beer_scaled.index), leaf_font_size=8)"
      ]
    },
    {
      "cell_type": "markdown",
      "metadata": {
        "id": "3z5BgLonUYpW"
      },
      "source": [
        "### 4.2 - Técnica para Escolha no número de cluster"
      ]
    },
    {
      "cell_type": "code",
      "execution_count": null,
      "metadata": {
        "id": "RQPdHMKkdGvi"
      },
      "outputs": [],
      "source": [
        "n_cluster = 6\n",
        "cluster = AgglomerativeClustering(n_clusters=n_cluster, affinity='euclidean', linkage='single')\n",
        "\n",
        "groups = cluster.fit_predict(beer_scaled)"
      ]
    },
    {
      "cell_type": "code",
      "execution_count": null,
      "metadata": {
        "colab": {
          "base_uri": "https://localhost:8080/"
        },
        "id": "JrIYDxc2h9IC",
        "outputId": "ba89627f-3889-42e5-f311-bd1782928897"
      },
      "outputs": [
        {
          "name": "stdout",
          "output_type": "stream",
          "text": [
            "Cluster 0: ['Pioneer - IPA Is Dead', 'Born To Die', 'Everday Anarchy', 'Small Batch: Imperial Pale Weizen']\n",
            "\n",
            "Cluster 1: ['Blonde Export Stout']\n",
            "\n",
            "Cluster 2: ['This. Is. Lager', 'Hunter Foundation Pale Ale']\n",
            "\n",
            "Cluster 3: ['Hello My Name Is Ingrid 2016']\n",
            "\n",
            "Cluster 4: ['Monk Hammer']\n",
            "\n",
            "Cluster 5: ['Hello My Name is Sonja (w/ Evil Twin)']\n",
            "\n"
          ]
        }
      ],
      "source": [
        "list_beer = list(beer_scaled.index)\n",
        "\n",
        "grouped_beers = {i: [] for i in range(n_cluster)}\n",
        "for beer , group in zip(list_beer, groups):\n",
        "  grouped_beers[group].append(beer)\n",
        "\n",
        "for gp, beer in grouped_beers.items():\n",
        "  print(f'Cluster {gp}: {beer}\\n')\n"
      ]
    },
    {
      "cell_type": "code",
      "execution_count": null,
      "metadata": {
        "colab": {
          "base_uri": "https://localhost:8080/",
          "height": 393
        },
        "id": "IPI-5VZjeDKA",
        "outputId": "6c387ab9-a2e7-4d26-b850-3badb185d248"
      },
      "outputs": [
        {
          "data": {
            "text/html": [
              "<div>\n",
              "<style scoped>\n",
              "    .dataframe tbody tr th:only-of-type {\n",
              "        vertical-align: middle;\n",
              "    }\n",
              "\n",
              "    .dataframe tbody tr th {\n",
              "        vertical-align: top;\n",
              "    }\n",
              "\n",
              "    .dataframe thead th {\n",
              "        text-align: right;\n",
              "    }\n",
              "</style>\n",
              "<table border=\"1\" class=\"dataframe\">\n",
              "  <thead>\n",
              "    <tr style=\"text-align: right;\">\n",
              "      <th></th>\n",
              "      <th>abv</th>\n",
              "      <th>ibu</th>\n",
              "      <th>target_fg</th>\n",
              "      <th>target_og</th>\n",
              "      <th>ebc</th>\n",
              "      <th>srm</th>\n",
              "      <th>ph</th>\n",
              "      <th>cluster</th>\n",
              "      <th>groups</th>\n",
              "    </tr>\n",
              "    <tr>\n",
              "      <th>name</th>\n",
              "      <th></th>\n",
              "      <th></th>\n",
              "      <th></th>\n",
              "      <th></th>\n",
              "      <th></th>\n",
              "      <th></th>\n",
              "      <th></th>\n",
              "      <th></th>\n",
              "      <th></th>\n",
              "    </tr>\n",
              "  </thead>\n",
              "  <tbody>\n",
              "    <tr>\n",
              "      <th>This. Is. Lager</th>\n",
              "      <td>-1.783122</td>\n",
              "      <td>-0.650458</td>\n",
              "      <td>-0.814629</td>\n",
              "      <td>-2.076378</td>\n",
              "      <td>-1.074074</td>\n",
              "      <td>-0.827264</td>\n",
              "      <td>-1.024544</td>\n",
              "      <td>3</td>\n",
              "      <td>3</td>\n",
              "    </tr>\n",
              "    <tr>\n",
              "      <th>Hello My Name Is Ingrid 2016</th>\n",
              "      <td>0.486306</td>\n",
              "      <td>-0.116500</td>\n",
              "      <td>0.666514</td>\n",
              "      <td>0.790587</td>\n",
              "      <td>1.888889</td>\n",
              "      <td>1.945352</td>\n",
              "      <td>2.916009</td>\n",
              "      <td>2</td>\n",
              "      <td>2</td>\n",
              "    </tr>\n",
              "    <tr>\n",
              "      <th>Hunter Foundation Pale Ale</th>\n",
              "      <td>-1.329237</td>\n",
              "      <td>-0.682819</td>\n",
              "      <td>-0.567771</td>\n",
              "      <td>-1.468234</td>\n",
              "      <td>-0.851852</td>\n",
              "      <td>-0.902607</td>\n",
              "      <td>-0.236433</td>\n",
              "      <td>3</td>\n",
              "      <td>3</td>\n",
              "    </tr>\n",
              "    <tr>\n",
              "      <th>Pioneer - IPA Is Dead</th>\n",
              "      <td>-0.162102</td>\n",
              "      <td>0.368917</td>\n",
              "      <td>-0.074057</td>\n",
              "      <td>-0.251945</td>\n",
              "      <td>-0.777778</td>\n",
              "      <td>-0.827264</td>\n",
              "      <td>-0.236433</td>\n",
              "      <td>1</td>\n",
              "      <td>1</td>\n",
              "    </tr>\n",
              "    <tr>\n",
              "      <th>Born To Die</th>\n",
              "      <td>0.680828</td>\n",
              "      <td>0.126208</td>\n",
              "      <td>-0.814629</td>\n",
              "      <td>0.443076</td>\n",
              "      <td>-0.333333</td>\n",
              "      <td>-0.375207</td>\n",
              "      <td>-0.236433</td>\n",
              "      <td>1</td>\n",
              "      <td>1</td>\n",
              "    </tr>\n",
              "    <tr>\n",
              "      <th>Monk Hammer</th>\n",
              "      <td>-0.162102</td>\n",
              "      <td>2.795999</td>\n",
              "      <td>-0.074057</td>\n",
              "      <td>-0.165068</td>\n",
              "      <td>-0.333333</td>\n",
              "      <td>-0.375207</td>\n",
              "      <td>-0.236433</td>\n",
              "      <td>4</td>\n",
              "      <td>4</td>\n",
              "    </tr>\n",
              "    <tr>\n",
              "      <th>Hello My Name is Sonja (w/ Evil Twin)</th>\n",
              "      <td>0.551147</td>\n",
              "      <td>-0.116500</td>\n",
              "      <td>0.666514</td>\n",
              "      <td>0.790587</td>\n",
              "      <td>1.888889</td>\n",
              "      <td>1.885078</td>\n",
              "      <td>-0.236433</td>\n",
              "      <td>5</td>\n",
              "      <td>5</td>\n",
              "    </tr>\n",
              "    <tr>\n",
              "      <th>Everday Anarchy</th>\n",
              "      <td>1.977645</td>\n",
              "      <td>-0.521014</td>\n",
              "      <td>-1.308343</td>\n",
              "      <td>1.224976</td>\n",
              "      <td>-0.333333</td>\n",
              "      <td>-0.375207</td>\n",
              "      <td>-0.236433</td>\n",
              "      <td>1</td>\n",
              "      <td>1</td>\n",
              "    </tr>\n",
              "    <tr>\n",
              "      <th>Blonde Export Stout</th>\n",
              "      <td>-0.291784</td>\n",
              "      <td>-0.359208</td>\n",
              "      <td>2.394514</td>\n",
              "      <td>0.703710</td>\n",
              "      <td>-0.185185</td>\n",
              "      <td>-0.224522</td>\n",
              "      <td>-0.236433</td>\n",
              "      <td>0</td>\n",
              "      <td>0</td>\n",
              "    </tr>\n",
              "    <tr>\n",
              "      <th>Small Batch: Imperial Pale Weizen</th>\n",
              "      <td>0.032420</td>\n",
              "      <td>-0.844625</td>\n",
              "      <td>-0.074057</td>\n",
              "      <td>0.008688</td>\n",
              "      <td>0.111111</td>\n",
              "      <td>0.076850</td>\n",
              "      <td>-0.236433</td>\n",
              "      <td>1</td>\n",
              "      <td>1</td>\n",
              "    </tr>\n",
              "  </tbody>\n",
              "</table>\n",
              "</div>"
            ],
            "text/plain": [
              "                                            abv       ibu  ...  cluster  groups\n",
              "name                                                       ...                 \n",
              "This. Is. Lager                       -1.783122 -0.650458  ...        3       3\n",
              "Hello My Name Is Ingrid 2016           0.486306 -0.116500  ...        2       2\n",
              "Hunter Foundation Pale Ale            -1.329237 -0.682819  ...        3       3\n",
              "Pioneer - IPA Is Dead                 -0.162102  0.368917  ...        1       1\n",
              "Born To Die                            0.680828  0.126208  ...        1       1\n",
              "Monk Hammer                           -0.162102  2.795999  ...        4       4\n",
              "Hello My Name is Sonja (w/ Evil Twin)  0.551147 -0.116500  ...        5       5\n",
              "Everday Anarchy                        1.977645 -0.521014  ...        1       1\n",
              "Blonde Export Stout                   -0.291784 -0.359208  ...        0       0\n",
              "Small Batch: Imperial Pale Weizen      0.032420 -0.844625  ...        1       1\n",
              "\n",
              "[10 rows x 9 columns]"
            ]
          },
          "execution_count": 108,
          "metadata": {},
          "output_type": "execute_result"
        }
      ],
      "source": [
        "beer_scaled['groups'] = groups\n",
        "\n",
        "beer_scaled"
      ]
    },
    {
      "cell_type": "markdown",
      "metadata": {
        "id": "5-43Dt9eUkO0"
      },
      "source": [
        "#### 4.2.1 - Coeficiente R²"
      ]
    },
    {
      "cell_type": "markdown",
      "metadata": {
        "id": "_l3vzRRnayZE"
      },
      "source": [
        "Conceito de variabilidade dos dados"
      ]
    },
    {
      "cell_type": "code",
      "execution_count": null,
      "metadata": {
        "colab": {
          "base_uri": "https://localhost:8080/",
          "height": 299
        },
        "id": "6xk6-AIHaPlM",
        "outputId": "04f524b3-4f37-4cc4-e14f-ba96b2e190eb"
      },
      "outputs": [
        {
          "data": {
            "text/html": [
              "<div>\n",
              "<style scoped>\n",
              "    .dataframe tbody tr th:only-of-type {\n",
              "        vertical-align: middle;\n",
              "    }\n",
              "\n",
              "    .dataframe tbody tr th {\n",
              "        vertical-align: top;\n",
              "    }\n",
              "\n",
              "    .dataframe thead th {\n",
              "        text-align: right;\n",
              "    }\n",
              "</style>\n",
              "<table border=\"1\" class=\"dataframe\">\n",
              "  <thead>\n",
              "    <tr style=\"text-align: right;\">\n",
              "      <th></th>\n",
              "      <th>abv</th>\n",
              "      <th>ibu</th>\n",
              "      <th>target_fg</th>\n",
              "      <th>target_og</th>\n",
              "      <th>ebc</th>\n",
              "      <th>srm</th>\n",
              "      <th>ph</th>\n",
              "    </tr>\n",
              "  </thead>\n",
              "  <tbody>\n",
              "    <tr>\n",
              "      <th>count</th>\n",
              "      <td>10.000000</td>\n",
              "      <td>10.000000</td>\n",
              "      <td>10.000000</td>\n",
              "      <td>10.000000</td>\n",
              "      <td>10.000000</td>\n",
              "      <td>10.000000</td>\n",
              "      <td>10.000000</td>\n",
              "    </tr>\n",
              "    <tr>\n",
              "      <th>mean</th>\n",
              "      <td>7.450000</td>\n",
              "      <td>77.200000</td>\n",
              "      <td>1010.300000</td>\n",
              "      <td>1066.900000</td>\n",
              "      <td>17.250000</td>\n",
              "      <td>8.745000</td>\n",
              "      <td>4.460000</td>\n",
              "    </tr>\n",
              "    <tr>\n",
              "      <th>std</th>\n",
              "      <td>1.625662</td>\n",
              "      <td>65.145649</td>\n",
              "      <td>4.270051</td>\n",
              "      <td>12.133059</td>\n",
              "      <td>7.115125</td>\n",
              "      <td>3.497654</td>\n",
              "      <td>0.267499</td>\n",
              "    </tr>\n",
              "    <tr>\n",
              "      <th>min</th>\n",
              "      <td>4.700000</td>\n",
              "      <td>25.000000</td>\n",
              "      <td>1005.000000</td>\n",
              "      <td>1043.000000</td>\n",
              "      <td>10.000000</td>\n",
              "      <td>5.750000</td>\n",
              "      <td>4.200000</td>\n",
              "    </tr>\n",
              "    <tr>\n",
              "      <th>25%</th>\n",
              "      <td>7.050000</td>\n",
              "      <td>39.000000</td>\n",
              "      <td>1007.250000</td>\n",
              "      <td>1064.250000</td>\n",
              "      <td>12.750000</td>\n",
              "      <td>6.375000</td>\n",
              "      <td>4.400000</td>\n",
              "    </tr>\n",
              "    <tr>\n",
              "      <th>50%</th>\n",
              "      <td>7.350000</td>\n",
              "      <td>62.500000</td>\n",
              "      <td>1010.000000</td>\n",
              "      <td>1069.500000</td>\n",
              "      <td>15.000000</td>\n",
              "      <td>7.500000</td>\n",
              "      <td>4.400000</td>\n",
              "    </tr>\n",
              "    <tr>\n",
              "      <th>75%</th>\n",
              "      <td>8.275000</td>\n",
              "      <td>81.250000</td>\n",
              "      <td>1012.250000</td>\n",
              "      <td>1075.750000</td>\n",
              "      <td>17.500000</td>\n",
              "      <td>8.750000</td>\n",
              "      <td>4.400000</td>\n",
              "    </tr>\n",
              "    <tr>\n",
              "      <th>max</th>\n",
              "      <td>10.500000</td>\n",
              "      <td>250.000000</td>\n",
              "      <td>1020.000000</td>\n",
              "      <td>1081.000000</td>\n",
              "      <td>30.000000</td>\n",
              "      <td>15.200000</td>\n",
              "      <td>5.200000</td>\n",
              "    </tr>\n",
              "  </tbody>\n",
              "</table>\n",
              "</div>"
            ],
            "text/plain": [
              "             abv         ibu    target_fg  ...        ebc        srm         ph\n",
              "count  10.000000   10.000000    10.000000  ...  10.000000  10.000000  10.000000\n",
              "mean    7.450000   77.200000  1010.300000  ...  17.250000   8.745000   4.460000\n",
              "std     1.625662   65.145649     4.270051  ...   7.115125   3.497654   0.267499\n",
              "min     4.700000   25.000000  1005.000000  ...  10.000000   5.750000   4.200000\n",
              "25%     7.050000   39.000000  1007.250000  ...  12.750000   6.375000   4.400000\n",
              "50%     7.350000   62.500000  1010.000000  ...  15.000000   7.500000   4.400000\n",
              "75%     8.275000   81.250000  1012.250000  ...  17.500000   8.750000   4.400000\n",
              "max    10.500000  250.000000  1020.000000  ...  30.000000  15.200000   5.200000\n",
              "\n",
              "[8 rows x 7 columns]"
            ]
          },
          "execution_count": 44,
          "metadata": {},
          "output_type": "execute_result"
        }
      ],
      "source": [
        "describe"
      ]
    },
    {
      "cell_type": "markdown",
      "metadata": {
        "id": "Yh-uk-rNa2wG"
      },
      "source": [
        "##### 4.2.1.1 - Cálculo das médias individuais"
      ]
    },
    {
      "cell_type": "code",
      "execution_count": null,
      "metadata": {
        "id": "ZiW6bmWNY7u9"
      },
      "outputs": [],
      "source": [
        "mean_abv = describe.abv['mean']\n",
        "mean_ibu = describe.ibu['mean']\n",
        "mean_target_fg = describe.target_fg['mean']\n",
        "mean_target_og = describe.target_og['mean']\n",
        "mean_ebc = describe.ebc['mean']\n",
        "mean_srm = describe.srm['mean']\n",
        "mean_ph = describe.ph['mean']"
      ]
    },
    {
      "cell_type": "code",
      "execution_count": null,
      "metadata": {
        "id": "jEuXoVzR-Uur"
      },
      "outputs": [],
      "source": [
        "import math"
      ]
    },
    {
      "cell_type": "code",
      "execution_count": null,
      "metadata": {
        "id": "L_qsKNhe9btS"
      },
      "outputs": [],
      "source": [
        "def variance_sums(df):\n",
        "  var = []\n",
        "  vars = beer_modificado.columns\n",
        "\n",
        "  for j in vars:\n",
        "    for i in range(0, len(df)):\n",
        "      variance = math.pow((df[j][i] - describe.abv['mean']), 2)\n",
        "      var.append(variance)\n",
        "\n",
        "  return sum(var)"
      ]
    },
    {
      "cell_type": "markdown",
      "metadata": {
        "id": "Gf62hsX7bFvs"
      },
      "source": [
        "##### 4.2.1.2 - Soma de Quadrados Total (SSTc)"
      ]
    },
    {
      "cell_type": "code",
      "execution_count": null,
      "metadata": {
        "colab": {
          "base_uri": "https://localhost:8080/"
        },
        "id": "_Dq6QXAkBd8A",
        "outputId": "749d8e0d-b6bb-400a-b31c-c00a2f356ddc"
      },
      "outputs": [
        {
          "data": {
            "text/plain": [
              "3955.175"
            ]
          },
          "execution_count": 127,
          "metadata": {},
          "output_type": "execute_result"
        }
      ],
      "source": [
        "sst = variance_sums(beer_scaled)\n",
        "\n",
        "sst"
      ]
    },
    {
      "cell_type": "markdown",
      "metadata": {
        "id": "tHmdUeNUbSVB"
      },
      "source": [
        "##### 4.2.1.3 - Soma de Quadrados Total Intragrupos (SSR)"
      ]
    },
    {
      "cell_type": "markdown",
      "metadata": {
        "id": "fndisPpObbF4"
      },
      "source": [
        "##### 4.2.1.4 - Soma de Quadrados Total Intergrupos (SSB)\n"
      ]
    },
    {
      "cell_type": "code",
      "execution_count": null,
      "metadata": {
        "id": "JlV1Ovz0oOHC"
      },
      "outputs": [],
      "source": [
        "list_groups = groups.to_list()"
      ]
    },
    {
      "cell_type": "code",
      "execution_count": null,
      "metadata": {
        "colab": {
          "base_uri": "https://localhost:8080/"
        },
        "id": "CHcIysJQfSEX",
        "outputId": "ccdcba56-d2a4-41ba-b5cd-24310cb5f441"
      },
      "outputs": [
        {
          "data": {
            "text/plain": [
              "8455.489650635569"
            ]
          },
          "execution_count": 129,
          "metadata": {},
          "output_type": "execute_result"
        }
      ],
      "source": [
        "groups_sum = []\n",
        "\n",
        "for i in groups:\n",
        "  if list_groups.count(i) == 1:\n",
        "    continue\n",
        "  else:\n",
        "    group = beer_scaled.loc[beer_scaled.groups == i]\n",
        "    groups_sum.append(variance_sums(group))\n",
        "\n",
        "sum(groups_sum)"
      ]
    },
    {
      "cell_type": "markdown",
      "metadata": {
        "id": "cx22dvZMUos7"
      },
      "source": [
        "#### 4.2.2 - CCC (Cubic Clustering Criterion)"
      ]
    },
    {
      "cell_type": "markdown",
      "metadata": {
        "id": "mt00iFFYUy0X"
      },
      "source": [
        "#### 4.2.3 - Método Elbow"
      ]
    },
    {
      "cell_type": "markdown",
      "metadata": {
        "id": "XN42yo3_U3Es"
      },
      "source": [
        "#### 4.2.4 - Método da Silhueta"
      ]
    },
    {
      "cell_type": "markdown",
      "metadata": {
        "id": "bBILOMpqjYSt"
      },
      "source": [
        "## 5. Cluster não-hierárquico"
      ]
    },
    {
      "cell_type": "code",
      "execution_count": null,
      "metadata": {
        "colab": {
          "base_uri": "https://localhost:8080/"
        },
        "id": "PUUpzlGNjbgx",
        "outputId": "f3677f87-611e-4256-daf1-822a8a45f50c"
      },
      "outputs": [
        {
          "data": {
            "text/plain": [
              "Text(0, 0.5, 'Inertia')"
            ]
          },
          "execution_count": 38,
          "metadata": {},
          "output_type": "execute_result"
        },
        {
          "data": {
            "image/png": "[encoded data removed]",
            "text/plain": [
              "<Figure size 576x432 with 1 Axes>"
            ]
          },
          "metadata": {
            "needs_background": "light"
          },
          "output_type": "display_data"
        }
      ],
      "source": [
        "inertias = []\n",
        "\n",
        "for k in np.arange(1,10):\n",
        "  kmeans = KMeans(n_clusters=k)\n",
        "  kmeans.fit(beer_scaled)\n",
        "  inertias.append(kmeans.inertia_)\n",
        "\n",
        "\n",
        "#Plotando o gráfico do Elbow Method\n",
        "plt.figure(figsize=(8,6))\n",
        "plt.plot(np.arange(1,10), inertias, '-o')\n",
        "plt.xlabel('Número de cluster')\n",
        "plt.ylabel('Inertia')"
      ]
    },
    {
      "cell_type": "code",
      "execution_count": null,
      "metadata": {
        "id": "g-Fp2-vIk7LU"
      },
      "outputs": [],
      "source": [
        "n_clusters = 6\n",
        "kmeans = KMeans(n_clusters = n_cluster)\n",
        "beer_scaled['cluster'] = kmeans.fit_predict(beer_scaled)"
      ]
    },
    {
      "cell_type": "code",
      "execution_count": null,
      "metadata": {
        "colab": {
          "base_uri": "https://localhost:8080/"
        },
        "id": "6f3_C7o-ltil",
        "outputId": "b0254447-96b4-430a-fb73-eb73f59a4231"
      },
      "outputs": [
        {
          "data": {
            "text/html": [
              "<div>\n",
              "<style scoped>\n",
              "    .dataframe tbody tr th:only-of-type {\n",
              "        vertical-align: middle;\n",
              "    }\n",
              "\n",
              "    .dataframe tbody tr th {\n",
              "        vertical-align: top;\n",
              "    }\n",
              "\n",
              "    .dataframe thead th {\n",
              "        text-align: right;\n",
              "    }\n",
              "</style>\n",
              "<table border=\"1\" class=\"dataframe\">\n",
              "  <thead>\n",
              "    <tr style=\"text-align: right;\">\n",
              "      <th></th>\n",
              "      <th>abv</th>\n",
              "      <th>ibu</th>\n",
              "      <th>target_fg</th>\n",
              "      <th>target_og</th>\n",
              "      <th>ebc</th>\n",
              "      <th>srm</th>\n",
              "      <th>ph</th>\n",
              "      <th>cluster</th>\n",
              "    </tr>\n",
              "    <tr>\n",
              "      <th>name</th>\n",
              "      <th></th>\n",
              "      <th></th>\n",
              "      <th></th>\n",
              "      <th></th>\n",
              "      <th></th>\n",
              "      <th></th>\n",
              "      <th></th>\n",
              "      <th></th>\n",
              "    </tr>\n",
              "  </thead>\n",
              "  <tbody>\n",
              "    <tr>\n",
              "      <th>This. Is. Lager</th>\n",
              "      <td>-1.783122</td>\n",
              "      <td>-0.650458</td>\n",
              "      <td>-0.814629</td>\n",
              "      <td>-2.076378</td>\n",
              "      <td>-1.074074</td>\n",
              "      <td>-0.827264</td>\n",
              "      <td>-1.024544</td>\n",
              "      <td>3</td>\n",
              "    </tr>\n",
              "    <tr>\n",
              "      <th>Hello My Name Is Ingrid 2016</th>\n",
              "      <td>0.486306</td>\n",
              "      <td>-0.116500</td>\n",
              "      <td>0.666514</td>\n",
              "      <td>0.790587</td>\n",
              "      <td>1.888889</td>\n",
              "      <td>1.945352</td>\n",
              "      <td>2.916009</td>\n",
              "      <td>2</td>\n",
              "    </tr>\n",
              "    <tr>\n",
              "      <th>Hunter Foundation Pale Ale</th>\n",
              "      <td>-1.329237</td>\n",
              "      <td>-0.682819</td>\n",
              "      <td>-0.567771</td>\n",
              "      <td>-1.468234</td>\n",
              "      <td>-0.851852</td>\n",
              "      <td>-0.902607</td>\n",
              "      <td>-0.236433</td>\n",
              "      <td>3</td>\n",
              "    </tr>\n",
              "    <tr>\n",
              "      <th>Pioneer - IPA Is Dead</th>\n",
              "      <td>-0.162102</td>\n",
              "      <td>0.368917</td>\n",
              "      <td>-0.074057</td>\n",
              "      <td>-0.251945</td>\n",
              "      <td>-0.777778</td>\n",
              "      <td>-0.827264</td>\n",
              "      <td>-0.236433</td>\n",
              "      <td>1</td>\n",
              "    </tr>\n",
              "    <tr>\n",
              "      <th>Born To Die</th>\n",
              "      <td>0.680828</td>\n",
              "      <td>0.126208</td>\n",
              "      <td>-0.814629</td>\n",
              "      <td>0.443076</td>\n",
              "      <td>-0.333333</td>\n",
              "      <td>-0.375207</td>\n",
              "      <td>-0.236433</td>\n",
              "      <td>1</td>\n",
              "    </tr>\n",
              "    <tr>\n",
              "      <th>Monk Hammer</th>\n",
              "      <td>-0.162102</td>\n",
              "      <td>2.795999</td>\n",
              "      <td>-0.074057</td>\n",
              "      <td>-0.165068</td>\n",
              "      <td>-0.333333</td>\n",
              "      <td>-0.375207</td>\n",
              "      <td>-0.236433</td>\n",
              "      <td>4</td>\n",
              "    </tr>\n",
              "    <tr>\n",
              "      <th>Hello My Name is Sonja (w/ Evil Twin)</th>\n",
              "      <td>0.551147</td>\n",
              "      <td>-0.116500</td>\n",
              "      <td>0.666514</td>\n",
              "      <td>0.790587</td>\n",
              "      <td>1.888889</td>\n",
              "      <td>1.885078</td>\n",
              "      <td>-0.236433</td>\n",
              "      <td>5</td>\n",
              "    </tr>\n",
              "    <tr>\n",
              "      <th>Everday Anarchy</th>\n",
              "      <td>1.977645</td>\n",
              "      <td>-0.521014</td>\n",
              "      <td>-1.308343</td>\n",
              "      <td>1.224976</td>\n",
              "      <td>-0.333333</td>\n",
              "      <td>-0.375207</td>\n",
              "      <td>-0.236433</td>\n",
              "      <td>1</td>\n",
              "    </tr>\n",
              "    <tr>\n",
              "      <th>Blonde Export Stout</th>\n",
              "      <td>-0.291784</td>\n",
              "      <td>-0.359208</td>\n",
              "      <td>2.394514</td>\n",
              "      <td>0.703710</td>\n",
              "      <td>-0.185185</td>\n",
              "      <td>-0.224522</td>\n",
              "      <td>-0.236433</td>\n",
              "      <td>0</td>\n",
              "    </tr>\n",
              "    <tr>\n",
              "      <th>Small Batch: Imperial Pale Weizen</th>\n",
              "      <td>0.032420</td>\n",
              "      <td>-0.844625</td>\n",
              "      <td>-0.074057</td>\n",
              "      <td>0.008688</td>\n",
              "      <td>0.111111</td>\n",
              "      <td>0.076850</td>\n",
              "      <td>-0.236433</td>\n",
              "      <td>1</td>\n",
              "    </tr>\n",
              "  </tbody>\n",
              "</table>\n",
              "</div>"
            ],
            "text/plain": [
              "                                            abv       ibu  ...        ph  cluster\n",
              "name                                                       ...                   \n",
              "This. Is. Lager                       -1.783122 -0.650458  ... -1.024544        3\n",
              "Hello My Name Is Ingrid 2016           0.486306 -0.116500  ...  2.916009        2\n",
              "Hunter Foundation Pale Ale            -1.329237 -0.682819  ... -0.236433        3\n",
              "Pioneer - IPA Is Dead                 -0.162102  0.368917  ... -0.236433        1\n",
              "Born To Die                            0.680828  0.126208  ... -0.236433        1\n",
              "Monk Hammer                           -0.162102  2.795999  ... -0.236433        4\n",
              "Hello My Name is Sonja (w/ Evil Twin)  0.551147 -0.116500  ... -0.236433        5\n",
              "Everday Anarchy                        1.977645 -0.521014  ... -0.236433        1\n",
              "Blonde Export Stout                   -0.291784 -0.359208  ... -0.236433        0\n",
              "Small Batch: Imperial Pale Weizen      0.032420 -0.844625  ... -0.236433        1\n",
              "\n",
              "[10 rows x 8 columns]"
            ]
          },
          "execution_count": 40,
          "metadata": {},
          "output_type": "execute_result"
        }
      ],
      "source": [
        "beer_scaled"
      ]
    },
    {
      "cell_type": "code",
      "execution_count": null,
      "metadata": {
        "colab": {
          "base_uri": "https://localhost:8080/"
        },
        "id": "Hz2N62mtlwGj",
        "outputId": "fa0956fe-db72-4df3-cb12-58ddde35753d"
      },
      "outputs": [
        {
          "name": "stdout",
          "output_type": "stream",
          "text": [
            "Cluster 0: ['Blonde Export Stout']\n",
            "\n",
            "Cluster 1: ['Pioneer - IPA Is Dead', 'Born To Die', 'Everday Anarchy', 'Small Batch: Imperial Pale Weizen']\n",
            "\n",
            "Cluster 2: ['Hello My Name Is Ingrid 2016']\n",
            "\n",
            "Cluster 3: ['This. Is. Lager', 'Hunter Foundation Pale Ale']\n",
            "\n",
            "Cluster 4: ['Monk Hammer']\n",
            "\n",
            "Cluster 5: ['Hello My Name is Sonja (w/ Evil Twin)']\n",
            "\n"
          ]
        }
      ],
      "source": [
        "list_beer = list(beer_scaled.index)\n",
        "groups = beer_scaled['cluster']\n",
        "\n",
        "grouped_beers = {i: [] for i in range(n_cluster)}\n",
        "for beer , group in zip(list_beer, groups):\n",
        "  grouped_beers[group].append(beer)\n",
        "\n",
        "for gp, beer in grouped_beers.items():\n",
        "  print(f'Cluster {gp}: {beer}\\n')\n"
      ]
    }
  ],
  "metadata": {
    "colab": {
      "collapsed_sections": [
        "bnlGyGuzsc_y",
        "EPmZAoOmsWtF",
        "DQBTyJvvIX3d",
        "jKOJaxGXHf6a",
        "gtwZS0JEvwAx",
        "MTzpjqiQFjAV",
        "_L-2pPqNAJHy",
        "DYFEulvDAOmg",
        "cph0k8-xAPfq",
        "7K3i_pQoAObV",
        "uOa4wrQNAOIc",
        "Qi2NY7XpHKKS",
        "hfn2XPIjH5mc",
        "0AewTOYbSrmf",
        "cS0EnabXSzep",
        "u9GLfOb7SzWw",
        "pgvd9I3uSzOG",
        "H_zuZhnXSy87",
        "bBILOMpqjYSt"
      ],
      "name": "beer_cluster.ipynb",
      "provenance": []
    },
    "interpreter": {
      "hash": "916dbcbb3f70747c44a77c7bcd40155683ae19c65e1c03b4aa3499c5328201f1"
    },
    "kernelspec": {
      "display_name": "Python 3.8.5 64-bit",
      "name": "python3"
    },
    "language_info": {
      "name": "python",
      "version": ""
    }
  },
  "nbformat": 4,
  "nbformat_minor": 0
}